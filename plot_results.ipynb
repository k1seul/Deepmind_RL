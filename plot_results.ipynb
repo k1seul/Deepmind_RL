{
 "cells": [
  {
   "cell_type": "code",
   "execution_count": 1,
   "metadata": {},
   "outputs": [
    {
     "name": "stdout",
     "output_type": "stream",
     "text": [
      "Tags: {'images': ['gif_Image', 'gif_Video'], 'audio': [], 'histograms': [], 'scalars': ['data/rewards', 'data/epsilons', 'data/steps', 'data/episode_length', 'data/td_error', 'data/avg_q', 'data/performace'], 'distributions': [], 'tensors': [], 'graph': False, 'meta_graph': False, 'run_metadata': []}\n",
      "Tag 'your_scalar_tag' not found in scalars.\n"
     ]
    }
   ],
   "source": [
    "from tensorboard.backend.event_processing import event_accumulator\n",
    "\n",
    "# Path to your events file\n",
    "file_path = \"runs/ALE/Pong-v5_DQN_doubleddqn_1_step/events.out.tfevents.1732665705.SeulServer\"\n",
    "\n",
    "# Load the events file\n",
    "event_acc = event_accumulator.EventAccumulator(file_path)\n",
    "event_acc.Reload()  # Load the data\n",
    "\n",
    "# Get available tags (e.g., scalars, histograms)\n",
    "tags = event_acc.Tags()\n",
    "print(\"Tags:\", tags)\n",
    "\n",
    "# Extract scalar values\n",
    "scalar_tag = \"your_scalar_tag\"  # Replace with the actual tag\n",
    "if scalar_tag in tags['scalars']:\n",
    "    scalars = event_acc.Scalars(scalar_tag)\n",
    "    for scalar in scalars:\n",
    "        print(f\"Step: {scalar.step}, Value: {scalar.value}, Wall_time: {scalar.wall_time}\")\n",
    "else:\n",
    "    print(f\"Tag '{scalar_tag}' not found in scalars.\")\n"
   ]
  },
  {
   "cell_type": "code",
   "execution_count": 10,
   "metadata": {},
   "outputs": [],
   "source": [
    "scalars = event_acc.Scalars('data/performace')"
   ]
  },
  {
   "cell_type": "code",
   "execution_count": 11,
   "metadata": {},
   "outputs": [
    {
     "data": {
      "text/plain": [
       "[-17.0, -9.0, -12.0, 1.0, 6.0, 21.0, 20.0]"
      ]
     },
     "execution_count": 11,
     "metadata": {},
     "output_type": "execute_result"
    }
   ],
   "source": [
    "[reward.value for reward in scalars]"
   ]
  },
  {
   "cell_type": "code",
   "execution_count": 12,
   "metadata": {},
   "outputs": [
    {
     "data": {
      "text/plain": [
       "[ScalarEvent(wall_time=1732666708.1803358, step=100, value=-17.0),\n",
       " ScalarEvent(wall_time=1732667916.3084016, step=200, value=-9.0),\n",
       " ScalarEvent(wall_time=1732669279.4331703, step=300, value=-12.0),\n",
       " ScalarEvent(wall_time=1732670825.354237, step=400, value=1.0),\n",
       " ScalarEvent(wall_time=1732673041.0738277, step=500, value=6.0),\n",
       " ScalarEvent(wall_time=1732676635.9544787, step=600, value=21.0),\n",
       " ScalarEvent(wall_time=1732682205.7254152, step=700, value=20.0)]"
      ]
     },
     "execution_count": 12,
     "metadata": {},
     "output_type": "execute_result"
    }
   ],
   "source": [
    "scalars"
   ]
  },
  {
   "cell_type": "code",
   "execution_count": 13,
   "metadata": {},
   "outputs": [],
   "source": [
    "lengths = event_acc.Scalars('data/episode_length')"
   ]
  },
  {
   "cell_type": "code",
   "execution_count": 14,
   "metadata": {},
   "outputs": [
    {
     "data": {
      "text/plain": [
       "[850.0,\n",
       " 996.0,\n",
       " 882.0,\n",
       " 938.0,\n",
       " 943.0,\n",
       " 871.0,\n",
       " 1068.0,\n",
       " 818.0,\n",
       " 1124.0,\n",
       " 786.0,\n",
       " 821.0,\n",
       " 1077.0,\n",
       " 773.0,\n",
       " 1083.0,\n",
       " 1116.0,\n",
       " 1127.0,\n",
       " 1018.0,\n",
       " 928.0,\n",
       " 976.0,\n",
       " 1270.0,\n",
       " 895.0,\n",
       " 1161.0,\n",
       " 1037.0,\n",
       " 966.0,\n",
       " 1173.0,\n",
       " 1123.0,\n",
       " 980.0,\n",
       " 1098.0,\n",
       " 1466.0,\n",
       " 958.0,\n",
       " 1218.0,\n",
       " 1268.0,\n",
       " 994.0,\n",
       " 1063.0,\n",
       " 1103.0,\n",
       " 1232.0,\n",
       " 909.0,\n",
       " 993.0,\n",
       " 1002.0,\n",
       " 908.0,\n",
       " 1217.0,\n",
       " 1659.0,\n",
       " 1356.0,\n",
       " 1220.0,\n",
       " 1471.0,\n",
       " 1482.0,\n",
       " 1874.0,\n",
       " 1632.0,\n",
       " 1176.0,\n",
       " 2131.0,\n",
       " 1705.0,\n",
       " 1893.0,\n",
       " 2228.0,\n",
       " 2076.0,\n",
       " 2187.0,\n",
       " 2356.0,\n",
       " 2606.0,\n",
       " 1843.0,\n",
       " 2702.0,\n",
       " 2160.0,\n",
       " 2595.0,\n",
       " 2413.0,\n",
       " 2466.0,\n",
       " 2833.0,\n",
       " 2968.0,\n",
       " 3461.0,\n",
       " 2723.0,\n",
       " 3004.0,\n",
       " 3431.0,\n",
       " 2734.0,\n",
       " 3038.0]"
      ]
     },
     "execution_count": 14,
     "metadata": {},
     "output_type": "execute_result"
    }
   ],
   "source": [
    "[length.value for length in lengths]"
   ]
  },
  {
   "cell_type": "code",
   "execution_count": 16,
   "metadata": {},
   "outputs": [
    {
     "data": {
      "text/plain": [
       "109652.0"
      ]
     },
     "execution_count": 16,
     "metadata": {},
     "output_type": "execute_result"
    }
   ],
   "source": [
    "sum([length.value for length in lengths])"
   ]
  },
  {
   "cell_type": "code",
   "execution_count": 20,
   "metadata": {},
   "outputs": [],
   "source": [
    "a = event_acc.Images('gif_Video')"
   ]
  },
  {
   "cell_type": "code",
   "execution_count": 24,
   "metadata": {},
   "outputs": [
    {
     "data": {
      "text/plain": [
       "tensorboard.backend.event_processing.event_accumulator.ImageEvent"
      ]
     },
     "execution_count": 24,
     "metadata": {},
     "output_type": "execute_result"
    }
   ],
   "source": [
    "type(a[0])"
   ]
  },
  {
   "cell_type": "code",
   "execution_count": null,
   "metadata": {},
   "outputs": [],
   "source": []
  }
 ],
 "metadata": {
  "kernelspec": {
   "display_name": "reinforce",
   "language": "python",
   "name": "python3"
  },
  "language_info": {
   "codemirror_mode": {
    "name": "ipython",
    "version": 3
   },
   "file_extension": ".py",
   "mimetype": "text/x-python",
   "name": "python",
   "nbconvert_exporter": "python",
   "pygments_lexer": "ipython3",
   "version": "3.7.12"
  }
 },
 "nbformat": 4,
 "nbformat_minor": 2
}
